{
 "cells": [
  {
   "cell_type": "markdown",
   "id": "56b1b39b-ffa7-445f-be70-7d1b633e566b",
   "metadata": {},
   "source": [
    "## Extracting the Data"
   ]
  },
  {
   "cell_type": "code",
   "execution_count": 1,
   "id": "3c648007-37eb-4f39-8190-bf89e7574f35",
   "metadata": {},
   "outputs": [],
   "source": [
    "import pandas as pd"
   ]
  },
  {
   "cell_type": "code",
   "execution_count": 17,
   "id": "8918ae12-a5ec-4563-afb3-9f986197f582",
   "metadata": {},
   "outputs": [],
   "source": [
    "df = pd.read_csv(r\"C:\\Users\\hp\\Desktop\\10alytics\\Capstone Project\\Customer-Churn.csv\")"
   ]
  },
  {
   "cell_type": "code",
   "execution_count": 18,
   "id": "ddeb230f-95ba-422b-bbf3-c1f9ecfe89d1",
   "metadata": {},
   "outputs": [
    {
     "data": {
      "text/html": [
       "<div>\n",
       "<style scoped>\n",
       "    .dataframe tbody tr th:only-of-type {\n",
       "        vertical-align: middle;\n",
       "    }\n",
       "\n",
       "    .dataframe tbody tr th {\n",
       "        vertical-align: top;\n",
       "    }\n",
       "\n",
       "    .dataframe thead th {\n",
       "        text-align: right;\n",
       "    }\n",
       "</style>\n",
       "<table border=\"1\" class=\"dataframe\">\n",
       "  <thead>\n",
       "    <tr style=\"text-align: right;\">\n",
       "      <th></th>\n",
       "      <th>customerID</th>\n",
       "      <th>gender</th>\n",
       "      <th>SeniorCitizen</th>\n",
       "      <th>Partner</th>\n",
       "      <th>Dependents</th>\n",
       "      <th>tenure</th>\n",
       "      <th>PhoneService</th>\n",
       "      <th>MultipleLines</th>\n",
       "      <th>InternetService</th>\n",
       "      <th>OnlineSecurity</th>\n",
       "      <th>...</th>\n",
       "      <th>DeviceProtection</th>\n",
       "      <th>TechSupport</th>\n",
       "      <th>StreamingTV</th>\n",
       "      <th>StreamingMovies</th>\n",
       "      <th>Contract</th>\n",
       "      <th>PaperlessBilling</th>\n",
       "      <th>PaymentMethod</th>\n",
       "      <th>MonthlyCharges</th>\n",
       "      <th>TotalCharges</th>\n",
       "      <th>Churn</th>\n",
       "    </tr>\n",
       "  </thead>\n",
       "  <tbody>\n",
       "    <tr>\n",
       "      <th>0</th>\n",
       "      <td>7590-VHVEG</td>\n",
       "      <td>Female</td>\n",
       "      <td>0</td>\n",
       "      <td>Yes</td>\n",
       "      <td>No</td>\n",
       "      <td>1</td>\n",
       "      <td>No</td>\n",
       "      <td>No phone service</td>\n",
       "      <td>DSL</td>\n",
       "      <td>No</td>\n",
       "      <td>...</td>\n",
       "      <td>No</td>\n",
       "      <td>No</td>\n",
       "      <td>No</td>\n",
       "      <td>No</td>\n",
       "      <td>Month-to-month</td>\n",
       "      <td>Yes</td>\n",
       "      <td>Electronic check</td>\n",
       "      <td>29.85</td>\n",
       "      <td>29.85</td>\n",
       "      <td>No</td>\n",
       "    </tr>\n",
       "    <tr>\n",
       "      <th>1</th>\n",
       "      <td>5575-GNVDE</td>\n",
       "      <td>Male</td>\n",
       "      <td>0</td>\n",
       "      <td>No</td>\n",
       "      <td>No</td>\n",
       "      <td>34</td>\n",
       "      <td>Yes</td>\n",
       "      <td>No</td>\n",
       "      <td>DSL</td>\n",
       "      <td>Yes</td>\n",
       "      <td>...</td>\n",
       "      <td>Yes</td>\n",
       "      <td>No</td>\n",
       "      <td>No</td>\n",
       "      <td>No</td>\n",
       "      <td>One year</td>\n",
       "      <td>No</td>\n",
       "      <td>Mailed check</td>\n",
       "      <td>56.95</td>\n",
       "      <td>1889.5</td>\n",
       "      <td>No</td>\n",
       "    </tr>\n",
       "    <tr>\n",
       "      <th>2</th>\n",
       "      <td>3668-QPYBK</td>\n",
       "      <td>Male</td>\n",
       "      <td>0</td>\n",
       "      <td>No</td>\n",
       "      <td>No</td>\n",
       "      <td>2</td>\n",
       "      <td>Yes</td>\n",
       "      <td>No</td>\n",
       "      <td>DSL</td>\n",
       "      <td>Yes</td>\n",
       "      <td>...</td>\n",
       "      <td>No</td>\n",
       "      <td>No</td>\n",
       "      <td>No</td>\n",
       "      <td>No</td>\n",
       "      <td>Month-to-month</td>\n",
       "      <td>Yes</td>\n",
       "      <td>Mailed check</td>\n",
       "      <td>53.85</td>\n",
       "      <td>108.15</td>\n",
       "      <td>Yes</td>\n",
       "    </tr>\n",
       "    <tr>\n",
       "      <th>3</th>\n",
       "      <td>7795-CFOCW</td>\n",
       "      <td>Male</td>\n",
       "      <td>0</td>\n",
       "      <td>No</td>\n",
       "      <td>No</td>\n",
       "      <td>45</td>\n",
       "      <td>No</td>\n",
       "      <td>No phone service</td>\n",
       "      <td>DSL</td>\n",
       "      <td>Yes</td>\n",
       "      <td>...</td>\n",
       "      <td>Yes</td>\n",
       "      <td>Yes</td>\n",
       "      <td>No</td>\n",
       "      <td>No</td>\n",
       "      <td>One year</td>\n",
       "      <td>No</td>\n",
       "      <td>Bank transfer (automatic)</td>\n",
       "      <td>42.30</td>\n",
       "      <td>1840.75</td>\n",
       "      <td>No</td>\n",
       "    </tr>\n",
       "    <tr>\n",
       "      <th>4</th>\n",
       "      <td>9237-HQITU</td>\n",
       "      <td>Female</td>\n",
       "      <td>0</td>\n",
       "      <td>No</td>\n",
       "      <td>No</td>\n",
       "      <td>2</td>\n",
       "      <td>Yes</td>\n",
       "      <td>No</td>\n",
       "      <td>Fiber optic</td>\n",
       "      <td>No</td>\n",
       "      <td>...</td>\n",
       "      <td>No</td>\n",
       "      <td>No</td>\n",
       "      <td>No</td>\n",
       "      <td>No</td>\n",
       "      <td>Month-to-month</td>\n",
       "      <td>Yes</td>\n",
       "      <td>Electronic check</td>\n",
       "      <td>70.70</td>\n",
       "      <td>151.65</td>\n",
       "      <td>Yes</td>\n",
       "    </tr>\n",
       "  </tbody>\n",
       "</table>\n",
       "<p>5 rows × 21 columns</p>\n",
       "</div>"
      ],
      "text/plain": [
       "   customerID  gender  SeniorCitizen Partner Dependents  tenure PhoneService  \\\n",
       "0  7590-VHVEG  Female              0     Yes         No       1           No   \n",
       "1  5575-GNVDE    Male              0      No         No      34          Yes   \n",
       "2  3668-QPYBK    Male              0      No         No       2          Yes   \n",
       "3  7795-CFOCW    Male              0      No         No      45           No   \n",
       "4  9237-HQITU  Female              0      No         No       2          Yes   \n",
       "\n",
       "      MultipleLines InternetService OnlineSecurity  ... DeviceProtection  \\\n",
       "0  No phone service             DSL             No  ...               No   \n",
       "1                No             DSL            Yes  ...              Yes   \n",
       "2                No             DSL            Yes  ...               No   \n",
       "3  No phone service             DSL            Yes  ...              Yes   \n",
       "4                No     Fiber optic             No  ...               No   \n",
       "\n",
       "  TechSupport StreamingTV StreamingMovies        Contract PaperlessBilling  \\\n",
       "0          No          No              No  Month-to-month              Yes   \n",
       "1          No          No              No        One year               No   \n",
       "2          No          No              No  Month-to-month              Yes   \n",
       "3         Yes          No              No        One year               No   \n",
       "4          No          No              No  Month-to-month              Yes   \n",
       "\n",
       "               PaymentMethod MonthlyCharges  TotalCharges Churn  \n",
       "0           Electronic check          29.85         29.85    No  \n",
       "1               Mailed check          56.95        1889.5    No  \n",
       "2               Mailed check          53.85        108.15   Yes  \n",
       "3  Bank transfer (automatic)          42.30       1840.75    No  \n",
       "4           Electronic check          70.70        151.65   Yes  \n",
       "\n",
       "[5 rows x 21 columns]"
      ]
     },
     "execution_count": 18,
     "metadata": {},
     "output_type": "execute_result"
    }
   ],
   "source": [
    "df.head()"
   ]
  },
  {
   "cell_type": "markdown",
   "id": "a2fcec50-ed0b-4b92-b9a4-d71a94110319",
   "metadata": {},
   "source": [
    "## Transforming the Data to ensure data quality\n",
    "This process involves converting data coming from  different systems into a format suitable for the target system\n",
    "* Data cleaning\n",
    "* removing duplicates\n",
    "* Data aggregation like summing for easier use\n",
    "* standardization/integration eg converting currencies to default currency if items are sold in different currencies or converting datetimes\n",
    "* data filtering removing unwanted information from data "
   ]
  },
  {
   "cell_type": "markdown",
   "id": "cfec286e-bcd3-4671-a9bf-ca0f19eaced4",
   "metadata": {},
   "source": [
    "# Finding duplicates"
   ]
  },
  {
   "cell_type": "code",
   "execution_count": 4,
   "id": "12e971cf-5e9e-49c9-b909-0a37a596cb20",
   "metadata": {},
   "outputs": [
    {
     "data": {
      "text/plain": [
       "Index(['customerID', 'gender', 'SeniorCitizen', 'Partner', 'Dependents',\n",
       "       'tenure', 'PhoneService', 'MultipleLines', 'InternetService',\n",
       "       'OnlineSecurity', 'OnlineBackup', 'DeviceProtection', 'TechSupport',\n",
       "       'StreamingTV', 'StreamingMovies', 'Contract', 'PaperlessBilling',\n",
       "       'PaymentMethod', 'MonthlyCharges', 'TotalCharges', 'Churn'],\n",
       "      dtype='object')"
      ]
     },
     "execution_count": 4,
     "metadata": {},
     "output_type": "execute_result"
    }
   ],
   "source": [
    "df.columns"
   ]
  },
  {
   "cell_type": "code",
   "execution_count": 5,
   "id": "6fc4dc80-dcbb-4a56-b186-ae068e57458f",
   "metadata": {},
   "outputs": [],
   "source": [
    "columns_to_check = ['customerID',]"
   ]
  },
  {
   "cell_type": "code",
   "execution_count": 6,
   "id": "629f0772-3858-4ca8-ac0f-de8b3088296f",
   "metadata": {},
   "outputs": [
    {
     "name": "stdout",
     "output_type": "stream",
     "text": [
      "Empty DataFrame\n",
      "Columns: [customerID, gender, SeniorCitizen, Partner, Dependents, tenure, PhoneService, MultipleLines, InternetService, OnlineSecurity, OnlineBackup, DeviceProtection, TechSupport, StreamingTV, StreamingMovies, Contract, PaperlessBilling, PaymentMethod, MonthlyCharges, TotalCharges, Churn]\n",
      "Index: []\n",
      "\n",
      "[0 rows x 21 columns]\n"
     ]
    }
   ],
   "source": [
    "# lets assign the duplicates to the duplicates variable\n",
    "Duplicates = df[df.duplicated('customerID',)]\n",
    "print(Duplicates)"
   ]
  },
  {
   "cell_type": "code",
   "execution_count": 7,
   "id": "f6edd4b6-728f-4c52-84c4-ecf9c76a2389",
   "metadata": {},
   "outputs": [
    {
     "data": {
      "text/plain": [
       "(0, 21)"
      ]
     },
     "execution_count": 7,
     "metadata": {},
     "output_type": "execute_result"
    }
   ],
   "source": [
    "Duplicates.shape"
   ]
  },
  {
   "cell_type": "markdown",
   "id": "bef0c1c5-98ef-4625-88fa-cb11c2d510b5",
   "metadata": {},
   "source": [
    "## I would do this if i want to check for duplicates in the entire dataset"
   ]
  },
  {
   "cell_type": "code",
   "execution_count": 8,
   "id": "2e262bf0-aa97-4408-961c-6cbc68e2b3e4",
   "metadata": {},
   "outputs": [
    {
     "data": {
      "text/plain": [
       "0"
      ]
     },
     "execution_count": 8,
     "metadata": {},
     "output_type": "execute_result"
    }
   ],
   "source": [
    "duplicates=df.duplicated().sum()\n",
    "duplicates"
   ]
  },
  {
   "cell_type": "markdown",
   "id": "39f6c50f-c758-460f-aeb1-4c96dfad302a",
   "metadata": {},
   "source": [
    "# # Observation\n",
    "there are no duplicates "
   ]
  },
  {
   "cell_type": "markdown",
   "id": "bce88a49-35b9-4b48-abcc-39c029d07d9c",
   "metadata": {},
   "source": [
    "# if there where to be duplicates this is how i would remove it "
   ]
  },
  {
   "cell_type": "code",
   "execution_count": 9,
   "id": "bd49fc06-ba98-4dea-8b3b-fc444c825bb9",
   "metadata": {},
   "outputs": [],
   "source": [
    " # keep only the first instance of our duplicates \n",
    "#df = df[df.duplicated('customerID', keep='first')]\n",
    "#print(df)"
   ]
  },
  {
   "cell_type": "code",
   "execution_count": 10,
   "id": "0dfb6d7e-a685-4096-838e-7bfbfad68227",
   "metadata": {},
   "outputs": [
    {
     "data": {
      "text/plain": [
       "customerID          0\n",
       "gender              0\n",
       "SeniorCitizen       0\n",
       "Partner             0\n",
       "Dependents          0\n",
       "tenure              0\n",
       "PhoneService        0\n",
       "MultipleLines       0\n",
       "InternetService     0\n",
       "OnlineSecurity      0\n",
       "OnlineBackup        0\n",
       "DeviceProtection    0\n",
       "TechSupport         0\n",
       "StreamingTV         0\n",
       "StreamingMovies     0\n",
       "Contract            0\n",
       "PaperlessBilling    0\n",
       "PaymentMethod       0\n",
       "MonthlyCharges      0\n",
       "TotalCharges        0\n",
       "Churn               0\n",
       "dtype: int64"
      ]
     },
     "execution_count": 10,
     "metadata": {},
     "output_type": "execute_result"
    }
   ],
   "source": [
    "# checking for missing values\n",
    "df = df.isnull().sum()\n",
    "df"
   ]
  },
  {
   "cell_type": "markdown",
   "id": "eec3b40b-0b3d-422d-987c-69820d485e33",
   "metadata": {},
   "source": [
    "# if i want to drop/remove columns i will do this "
   ]
  },
  {
   "cell_type": "code",
   "execution_count": 11,
   "id": "67972daa-ee66-4579-82fa-7961f8716f37",
   "metadata": {},
   "outputs": [],
   "source": [
    "#df= df.drop(['customerID', 'gender'])\n",
    "#df"
   ]
  },
  {
   "cell_type": "code",
   "execution_count": 12,
   "id": "27f2787b-ea82-45c0-a555-8edb3925dd6a",
   "metadata": {},
   "outputs": [],
   "source": [
    "# Alternatively\n",
    "#columns_to_remove=['customerID', 'gender']\n",
    "#df= df.drop(columns =columns_to_remove)\n",
    "#df"
   ]
  },
  {
   "cell_type": "markdown",
   "id": "f12057ed-22ee-47d6-afbd-6ce0f62ce25a",
   "metadata": {},
   "source": [
    "# Loading data into bigquery"
   ]
  },
  {
   "cell_type": "code",
   "execution_count": 13,
   "id": "4fd4f0c9-156c-4daf-8bc7-624dd39295a3",
   "metadata": {},
   "outputs": [
    {
     "name": "stdout",
     "output_type": "stream",
     "text": [
      "Libraries imported successfully!\n"
     ]
    }
   ],
   "source": [
    "import pandas\n",
    "import pandas_gbq\n",
    "from google.cloud import bigquery\n",
    "\n",
    "print(\"Libraries imported successfully!\")\n"
   ]
  },
  {
   "cell_type": "markdown",
   "id": "61083af2-a23b-4f52-9456-2e004cd081e9",
   "metadata": {},
   "source": [
    " ## Set Up the Authentication"
   ]
  },
  {
   "cell_type": "code",
   "execution_count": 14,
   "id": "13673387-ab29-4e79-afa6-66a19025a417",
   "metadata": {},
   "outputs": [],
   "source": [
    "import os\n",
    "\n",
    "# Set the path to my service account key JSON file\n",
    "os.environ[\"GOOGLE_APPLICATION_CREDENTIALS\"] = r\"C:\\Users\\hp\\Desktop\\etl pipeline with bigquery\\etl-pipeline-444417-ca190dd4dcb5.json\"\n",
    "\n"
   ]
  },
  {
   "cell_type": "markdown",
   "id": "bba79d10-14ad-4a88-82f0-be49e4696e3c",
   "metadata": {},
   "source": [
    "## Test the Connection"
   ]
  },
  {
   "cell_type": "code",
   "execution_count": 15,
   "id": "aa9fef24-b166-44cf-a501-60c378a44fb7",
   "metadata": {},
   "outputs": [
    {
     "name": "stdout",
     "output_type": "stream",
     "text": [
      "Current Time: 2024-12-11 23:02:34.820853+00:00\n"
     ]
    }
   ],
   "source": [
    "from google.cloud import bigquery\n",
    "\n",
    "# Initialize BigQuery client\n",
    "client = bigquery.Client()\n",
    "\n",
    "# Test query to get the current timestamp\n",
    "query = \"SELECT CURRENT_TIMESTAMP() AS current_time\"\n",
    "query_job = client.query(query)\n",
    "\n",
    "# Print the result\n",
    "for row in query_job:\n",
    "    print(f\"Current Time: {row['current_time']}\")\n"
   ]
  },
  {
   "cell_type": "markdown",
   "id": "ed27afcd-9c64-4f41-805b-0e9217d8f49d",
   "metadata": {},
   "source": [
    "# Load the data to the data warehouse"
   ]
  },
  {
   "cell_type": "code",
   "execution_count": 19,
   "id": "94a97f12-4553-4bd1-b92a-9edae9e9c44a",
   "metadata": {},
   "outputs": [
    {
     "name": "stderr",
     "output_type": "stream",
     "text": [
      "100%|████████████████████████████████████████████████████████████████████████████████████████████| 1/1 [00:00<?, ?it/s]"
     ]
    },
    {
     "name": "stdout",
     "output_type": "stream",
     "text": [
      "Data uploaded successfully to BigQuery!\n"
     ]
    },
    {
     "name": "stderr",
     "output_type": "stream",
     "text": [
      "\n"
     ]
    }
   ],
   "source": [
    "from pandas_gbq import to_gbq\n",
    "\n",
    "# BigQuery details\n",
    "project_id = \"etl-pipeline-444417\"  # my Google Cloud project ID\n",
    "dataset_id = \"etl_dataset\"  # my dataset name\n",
    "table_id = \"main_table\"  # Name for my table in BigQuery\n",
    "\n",
    "# Upload DataFrame to BigQuery\n",
    "to_gbq(\n",
    "    dataframe=df, \n",
    "    destination_table=f\"{dataset_id}.{table_id}\",\n",
    "    project_id=project_id,\n",
    "    if_exists=\"replace\" \n",
    ")\n",
    "\n",
    "print(\"Data uploaded successfully to BigQuery!\")\n"
   ]
  },
  {
   "cell_type": "markdown",
   "id": "22473ab3-f399-4455-9844-03b880e63ce8",
   "metadata": {},
   "source": [
    "# Tests and checks for data quality to ensure data is not lost , truncated or corrupted during at the source or destination\n",
    "* check for nulls , empty rows, duplicates\n",
    "* counting the number of columns in the source and destination\n",
    "* check if data is fresh, its fresh if the maximum timestamp in the table is C minus 1 day where C = current timestamp\n",
    "\n",
    "  runnig df.shape in python and count(*) in bigquery does a basic check"
   ]
  },
  {
   "cell_type": "code",
   "execution_count": 20,
   "id": "9192b005-7673-482e-839c-1742aeff2990",
   "metadata": {},
   "outputs": [
    {
     "data": {
      "text/plain": [
       "(7043, 21)"
      ]
     },
     "execution_count": 20,
     "metadata": {},
     "output_type": "execute_result"
    }
   ],
   "source": [
    "df.shape"
   ]
  },
  {
   "cell_type": "markdown",
   "id": "5a174fae-ad81-4587-9f2f-8891243d25bd",
   "metadata": {},
   "source": [
    "# Automate ETL to make sure its always fresh , scheduling jobs with Apache Airflow\n",
    "other tools we can use are \n",
    "- MS Azure data factory\n",
    "- NiFI\n",
    "- Oosie\n",
    "- SSIS"
   ]
  },
  {
   "cell_type": "markdown",
   "id": "92c2a89e-35dc-407c-ac5e-a2f55207ff36",
   "metadata": {},
   "source": [
    "# Open docker using command terminal run the following in these steps \n",
    "* Invoke-WebRequest -Uri \"https://airflow.apache.org/docs/apache-airflow/2.6.3/docker-compose.yaml\" -OutFile \"docker-compose.yaml\"\n",
    "* New-Item -ItemType Directory -Force -Path \"dags\", \"logs\", \"plugins\", \"config\"\n",
    "* [Environment]::SetEnvironmentVariable('AIRFLOW_UID', '50000', 'User')\n",
    "* [Environment]::SetEnvironmentVariable('AIRFLOW_UID', '50000', 'User')\n",
    "* docker compose up airflow-init\n",
    "* docker compose up -d\n",
    "* After these commands complete successfully, access the Airflow web interface at:\n",
    "\n",
    "http://localhost:8080\n",
    "Username: airflow\n",
    "Password: airflow\n",
    "\n",
    "Make sure Docker Desktop is running on Windows machine before executing these commands.\n",
    "* \n"
   ]
  },
  {
   "cell_type": "markdown",
   "id": "ec0499ea-9b95-4b39-b58a-c61a06078d9d",
   "metadata": {},
   "source": [
    "Make sure to to set up a connection in Airflow for BigQuery. Here's how to fix it:\n",
    "\n",
    "In Airflow UI:\n",
    "\n",
    "Click on \"Admin\" in the top menu\n",
    "Click on \"Connections\"\n",
    "Click the \"+\" button to add a new connection\n",
    "\n",
    "\n",
    "Fill in these details:\n",
    "\n",
    "Connection Id: google_cloud_default\n",
    "Connection Type: Google Cloud\n",
    "Keyfile Path: Your JSON key file path\n",
    "Project Id: etl-pipeline-444417"
   ]
  },
  {
   "cell_type": "code",
   "execution_count": null,
   "id": "97508805-eca2-4e52-ad3f-8ad73335e60b",
   "metadata": {},
   "outputs": [],
   "source": []
  },
  {
   "cell_type": "code",
   "execution_count": null,
   "id": "966831be-f28c-43cc-8d88-f4a4169a46c6",
   "metadata": {},
   "outputs": [],
   "source": []
  },
  {
   "cell_type": "code",
   "execution_count": null,
   "id": "fc898b7c-3012-4eca-93eb-35778aaa4e4b",
   "metadata": {},
   "outputs": [],
   "source": []
  },
  {
   "cell_type": "code",
   "execution_count": null,
   "id": "99d59c3b-8c80-4345-9a21-d6bb02905e8a",
   "metadata": {},
   "outputs": [],
   "source": []
  },
  {
   "cell_type": "code",
   "execution_count": null,
   "id": "c81665c5-8f29-45e1-a5bb-e76a5e89f479",
   "metadata": {},
   "outputs": [],
   "source": []
  }
 ],
 "metadata": {
  "kernelspec": {
   "display_name": "Python 3 (ipykernel)",
   "language": "python",
   "name": "python3"
  },
  "language_info": {
   "codemirror_mode": {
    "name": "ipython",
    "version": 3
   },
   "file_extension": ".py",
   "mimetype": "text/x-python",
   "name": "python",
   "nbconvert_exporter": "python",
   "pygments_lexer": "ipython3",
   "version": "3.12.4"
  }
 },
 "nbformat": 4,
 "nbformat_minor": 5
}
